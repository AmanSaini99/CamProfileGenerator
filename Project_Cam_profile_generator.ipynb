{
  "nbformat": 4,
  "nbformat_minor": 0,
  "metadata": {
    "colab": {
      "name": "Project_Cam profile generator.ipynb",
      "provenance": [],
      "collapsed_sections": []
    },
    "kernelspec": {
      "display_name": "Python 3",
      "language": "python",
      "name": "python3"
    },
    "language_info": {
      "codemirror_mode": {
        "name": "ipython",
        "version": 3
      },
      "file_extension": ".py",
      "mimetype": "text/x-python",
      "name": "python",
      "nbconvert_exporter": "python",
      "pygments_lexer": "ipython3",
      "version": "3.7.4"
    }
  },
  "cells": [
    {
      "cell_type": "code",
      "metadata": {
        "id": "BoBPhtyRaXXz"
      },
      "source": [
        "import numpy as np\n",
        "import matplotlib.pyplot as plt\n",
        "from itertools import chain\n",
        "import math\n",
        "import cv2"
      ],
      "execution_count": null,
      "outputs": []
    },
    {
      "cell_type": "code",
      "metadata": {
        "id": "KqzOnoC_aXXz"
      },
      "source": [
        "np.random.seed(1)"
      ],
      "execution_count": null,
      "outputs": []
    },
    {
      "cell_type": "code",
      "metadata": {
        "id": "M5qqAuPjaXX0"
      },
      "source": [
        "# parameters = initialize_parameters(2,2,1)\n",
        "# print(\"W1 = \" + str(parameters[\"W1\"]))\n",
        "# print(\"b1 = \" + str(parameters[\"b1\"]))\n",
        "# print(\"W2 = \" + str(parameters[\"W2\"]))\n",
        "# print(\"b2 = \" + str(parameters[\"b2\"]))"
      ],
      "execution_count": null,
      "outputs": []
    },
    {
      "cell_type": "code",
      "metadata": {
        "id": "jcm4AjjGaXX0"
      },
      "source": [
        "def initialize_parameters_deep(layer_dims):\n",
        "    \n",
        "    np.random.seed(3)                                                                                                                                                   # To keep random values constant\n",
        "    parameters = {}\n",
        "    L = len(layer_dims)                                                                                                                                                    # number of layers in the network\n",
        "\n",
        "    for l in range(1, L):\n",
        "        parameters['W' + str(l)] = np.random.randn(layer_dims[l],layer_dims[l-1]) * 5\n",
        "        parameters['b' + str(l)] = np.zeros((layer_dims[l],1))\n",
        "        \n",
        "        assert(parameters['W' + str(l)].shape == (layer_dims[l], layer_dims[l-1]))\n",
        "        assert(parameters['b' + str(l)].shape == (layer_dims[l], 1))\n",
        "\n",
        "        \n",
        "    return parameters\n"
      ],
      "execution_count": null,
      "outputs": []
    },
    {
      "cell_type": "code",
      "metadata": {
        "id": "jtJ1ykkHaXX0"
      },
      "source": [
        "def sigmoid(Z):\n",
        "    A = 1/(1 + np.exp(-Z))\n",
        "    cache = Z\n",
        "    return A, cache\n",
        "\n",
        "def tanh(Z):\n",
        "    cache = Z\n",
        "    A = (np.exp(Z)-np.exp(-Z))/(np.exp(Z)+np.exp(-Z))\n",
        "    return A, cache\n",
        "\n",
        "def ReLU(Z):\n",
        "    A = np.maximum(0, Z)\n",
        "    cache = Z\n",
        "    return A, cache\n",
        "\n",
        "def LeakyReLU(Z):\n",
        "    cache = Z\n",
        "    A = np.maximum(0.01*Z , Z)\n",
        "    return A, cache\n",
        "\n",
        "def sigmoid_backward(dA, cache):\n",
        "    Z = cache \n",
        "    s = 1/(1 + np.exp(-Z))\n",
        "    dZ = dA * s * (1-s)\n",
        "    return dZ\n",
        "\n",
        "def ReLU_backward(dA, cache):\n",
        "    Z = cache\n",
        "    dZ = np.array(dA, copy=True) # just converting dz to a correct object.\n",
        "    # When z <= 0, you should set dz to 0 as well. \n",
        "    dZ[Z <= 0] = 0\n",
        "    return dZ\n",
        "\n",
        "def tanh_backward(dA, cache):\n",
        "    Z = cache\n",
        "    s = (np.exp(Z)-np.exp(-Z))/(np.exp(Z)+np.exp(-Z))\n",
        "    dZ = dA * (1 - s**2)\n",
        "    return dZ\n",
        "\n",
        "def leakyReLU_backward(dA, cache):\n",
        "    Z = cache\n",
        "    dZ = np.array(dA, copy=True)\n",
        "    dZ[Z < 0] = 0.01\n",
        "    return dZ\n",
        "\n",
        "def out_forward(Z):\n",
        "    cache = Z\n",
        "    return Z, cache\n",
        "  \n",
        "def out_backward(dA, cache):\n",
        "    Z = cache\n",
        "    dZ = dA\n",
        "    return dZ"
      ],
      "execution_count": null,
      "outputs": []
    },
    {
      "cell_type": "code",
      "metadata": {
        "id": "Rq1n_iShaXX0"
      },
      "source": [
        "def linear_forward(A, W, b):\n",
        "    \n",
        "    Z = np.dot(W,A) + b                                                                                                                                                   #Z = W.A + b\n",
        "    \n",
        "    cache = (A, W, b)\n",
        "    \n",
        "    return Z, cache"
      ],
      "execution_count": null,
      "outputs": []
    },
    {
      "cell_type": "code",
      "metadata": {
        "id": "iy-V8siFaXX0"
      },
      "source": [
        "def linear_activation_forward(A_prev, W, b, activation):                                                                                      # To apply activtion funtion\n",
        "    \n",
        "    if activation == 1:\n",
        "        Z, linear_cache = linear_forward(A_prev,W,b)                                                                                                 #Z = W.A + b and A, W, b stored in lin_cache\n",
        "        A, activation_cache = sigmoid(Z)                                                                                                                        # A = af(Z) and Z store in activ_cache\n",
        "    \n",
        "    elif activation == 2:\n",
        "        Z, linear_cache = linear_forward(A_prev,W,b)\n",
        "        A, activation_cache = tanh(Z)\n",
        "        \n",
        "    elif activation == 3:\n",
        "        Z, linear_cache = linear_forward(A_prev,W,b)\n",
        "        A, activation_cache = ReLU(Z)\n",
        "        \n",
        "    elif activation == 4:\n",
        "        Z, linear_cache = linear_forward(A_prev,W,b)\n",
        "        A, activation_cache = LeakyReLU(Z)\n",
        "        \n",
        "    elif activation == 0:\n",
        "        Z, linear_cache = linear_forward(A_prev,W,b)\n",
        "        A, activation_cache = out_forward(Z)\n",
        "\n",
        "    cache = (linear_cache, activation_cache)\n",
        "\n",
        "    return A, cache"
      ],
      "execution_count": null,
      "outputs": []
    },
    {
      "cell_type": "code",
      "metadata": {
        "id": "IzGjJQHEaXX1"
      },
      "source": [
        "def L_model_forward(X, parameters, afh, afo):\n",
        "    \n",
        "    caches = []\n",
        "    A = X\n",
        "    L = len(parameters) // 2                  # number of layers in the neural network\n",
        "    \n",
        "    for l in range(1, L):\n",
        "        A_prev = A \n",
        "        A, cache = linear_activation_forward(A_prev, parameters['W' + str(l)], parameters['b' + str(l)], afh)\n",
        "        caches.append(cache)\n",
        "\n",
        "    AL, cache = linear_activation_forward(A, parameters['W' + str(L)],parameters['b' + str(L)], afo)\n",
        "    caches.append(cache)\n",
        "           \n",
        "    return AL, caches\n",
        "    "
      ],
      "execution_count": null,
      "outputs": []
    },
    {
      "cell_type": "code",
      "metadata": {
        "id": "GVBiw5rZaXX1"
      },
      "source": [
        "def compute_cost(AL, Y):\n",
        "    \n",
        "    m = Y.shape[1]\n",
        "    A = np.ones((m, 1))\n",
        "    cost = (1/m)*(np.dot((Y-AL)**2, A.T))\n",
        "    # cost = -2 * (1-np.dot(AL, AL.T)) * (Y_AL)\n",
        "    \n",
        "    cost = np.squeeze(cost)\n",
        "    cst = sum(cost)\n",
        "    return cst\n"
      ],
      "execution_count": null,
      "outputs": []
    },
    {
      "cell_type": "code",
      "metadata": {
        "id": "56p-V1GgaXX1"
      },
      "source": [
        "def linear_backward(dZ, cache):\n",
        "    A_prev, W, b = cache\n",
        "    m = A_prev.shape[1]\n",
        "\n",
        "    dW = 1 / m * (np.dot(dZ,A_prev.T))\n",
        "    db = 1 / m * (np.sum(dZ,axis = 1,keepdims = True))\n",
        "    dA_prev = np.dot(W.T,dZ)\n",
        "    \n",
        "    return dA_prev, dW, db\n"
      ],
      "execution_count": null,
      "outputs": []
    },
    {
      "cell_type": "code",
      "metadata": {
        "id": "laPOT9G_aXX1"
      },
      "source": [
        "def linear_activation_backward(dA, cache, activation):\n",
        "    linear_cache, activation_cache = cache\n",
        "        \n",
        "    if activation == 1:\n",
        "        dZ = sigmoid_backward(dA,activation_cache)\n",
        "        dA_prev, dW, db = linear_backward(dZ,linear_cache)\n",
        "        \n",
        "    elif activation == 2:\n",
        "        dZ = tanh_backward(dA,activation_cache)\n",
        "        dA_prev, dW, db = linear_backward(dZ,linear_cache)\n",
        "        \n",
        "    elif activation == 3:\n",
        "        dZ = ReLU_backward(dA,activation_cache)\n",
        "        dA_prev, dW, db = linear_backward(dZ,linear_cache)\n",
        "        \n",
        "    elif activation == 4:\n",
        "        dZ = leakyReLU_backward(dA,activation_cache)\n",
        "        dA_prev, dW, db = linear_backward(dZ,linear_cache)\n",
        "        \n",
        "    elif activation == 0:\n",
        "        dZ = out_backward(dA,activation_cache)\n",
        "        dA_prev, dW, db = linear_backward(dZ,linear_cache)\n",
        "        \n",
        "    return dA_prev, dW, db"
      ],
      "execution_count": null,
      "outputs": []
    },
    {
      "cell_type": "code",
      "metadata": {
        "id": "hRBGXtZjaXX1"
      },
      "source": [
        "def L_model_backward(AL, Y, caches, afh, afo):\n",
        "    grads = {}\n",
        "    L = len(caches) # the number of layers\n",
        "    m = AL.shape[1]\n",
        "    Y = Y.reshape(AL.shape) # after this line, Y is the same shape as AL\n",
        "    \n",
        "    dAL = -2 * (Y-AL)\n",
        "    \n",
        "    current_cache = caches[L-1]\n",
        "    grads[\"dA\" + str(L)], grads[\"dW\" + str(L)], grads[\"db\" + str(L)] = linear_activation_backward(dAL, current_cache, activation = afo)\n",
        "    \n",
        "    for l in reversed(range(L-1)):\n",
        "        current_cache = caches[l]\n",
        "        dA_prev_temp, dW_temp, db_temp = linear_activation_backward(grads[\"dA\" + str(l+2)], current_cache, activation = afh)\n",
        "        grads[\"dA\" + str(l + 1)] = dA_prev_temp\n",
        "        grads[\"dW\" + str(l + 1)] = dW_temp\n",
        "        grads[\"db\" + str(l + 1)] = db_temp\n",
        "        \n",
        "    return grads\n"
      ],
      "execution_count": null,
      "outputs": []
    },
    {
      "cell_type": "code",
      "metadata": {
        "id": "2CW3kkVMaXX1"
      },
      "source": [
        "def update_parameters(parameters, grads, learning_rate):\n",
        "    L = len(parameters) // 2 # number of layers in the neural network\n",
        "\n",
        "    for l in range(L):\n",
        "        parameters[\"W\" + str(l+1)] = parameters[\"W\" + str(l+1)] - learning_rate * grads[\"dW\"+ str(l+1)]\n",
        "        parameters[\"b\" + str(l+1)] = parameters[\"b\" + str(l+1)] - learning_rate * grads[\"db\"+ str(l+1)]\n",
        "        \n",
        "    return parameters\n"
      ],
      "execution_count": null,
      "outputs": []
    },
    {
      "cell_type": "code",
      "metadata": {
        "colab": {
          "base_uri": "https://localhost:8080/",
          "height": 141
        },
        "id": "beCzI_4umw6f",
        "outputId": "eb46980d-ada6-43af-f233-bb3723f0c88a"
      },
      "source": [
        "from google.colab import drive\n",
        "drive.mount('/content/drive')\n",
        "\n",
        "img=cv2.imread('/content/drive/MyDrive/Data1.PNG')                                                                                        #Import data\n",
        "\n",
        "plt.imshow(img,cmap='gray')\n",
        "img=cv2.cvtColor(img,cv2.COLOR_BGR2GRAY)                                                                                                       #Convert image in grayscale and prepare img matrix \n",
        "plt.imshow(img,cmap='gray')\n",
        "\n",
        "pts=[]\n",
        "xy = []\n",
        "img.shape\n",
        "\n",
        "h = int(input(\"Enter maximum displacement \"))\n",
        "\n",
        "for j in range(img.shape[1]):\n",
        "  for i in range(img.shape[0]):\n",
        "    if img[i,j]!=255 and j>10:\n",
        "      temp=[182-i,j]\n",
        "      pts.append(182-i)                                                                                                                                                    #‘pts’ array to store value to height \n",
        "      xy.append(temp)                                                                                                                                                      #‘xy’ array to store value of cartesian coordinate of black points\n",
        "\n",
        "\n",
        "max_i = max(pts)                                                                                                                                                           #Maximum value of black point on y axis\n",
        "le = len(pts)                                                                                                                                                                     #Length of pts array i.e. number of pts on x axis\n",
        "\n",
        "pts_f=[]\n",
        "\n",
        "#print(max_i)\n",
        "for k in pts:                                                                                                                                                                      #Scaling y value to height and storing in 'pts_f' matrix\n",
        "  k = (k/max_i)*h \n",
        "  pts_f.append(k)\n",
        "\n",
        "for l in xy:                                                                                                                                                                        #Scaling x,y value to 360 degree and height and storing in 'xy' matrix\n",
        "  l[0] = (l[0]/max_i)*h\n",
        "  l[1] = (l[1]/j)*360\n",
        "\n",
        "  \n",
        "X = np.array([pts_f]).T                                                                                                                                                   #Input matrix\n",
        "n=le\n",
        "Y = X"
      ],
      "execution_count": null,
      "outputs": [
        {
          "output_type": "stream",
          "text": [
            "Mounted at /content/drive\n",
            "Enter maximum displacement 30\n"
          ],
          "name": "stdout"
        },
        {
          "output_type": "display_data",
          "data": {
            "image/png": "[encoded data removed]",
            "text/plain": [
              "<Figure size 432x288 with 1 Axes>"
            ]
          },
          "metadata": {
            "tags": [],
            "needs_background": "light"
          }
        }
      ]
    },
    {
      "cell_type": "code",
      "metadata": {
        "id": "x1vXsdHhaXX1",
        "scrolled": false,
        "colab": {
          "base_uri": "https://localhost:8080/",
          "height": 1000
        },
        "outputId": "6874398f-934c-4d74-da47-b149ab8a6bee"
      },
      "source": [
        "phi = np.linspace(0, 2*np.pi, n)\n",
        "Base_circle = int(input(\"Enter the base circle diiameter in mm: \"))                                                                     #Taking input for base circle radius\n",
        "hid_layer = int(input(\"Enter number of hidden layers: \"))                                                                                     #Taking input for number of hidden layers\n",
        "nodes = int(input(\"Enter number of nodes in a hidden layer: \"))                                                                         #Taking input for number of nodes\n",
        "\n",
        "\n",
        "print(\"Please Enter which activation function you want to use\")                                                                         #Taking input for activation function\n",
        "print(\"Press 1 for Sigmoid\")\n",
        "print(\"Press 2 for tanh\")\n",
        "print(\"Press 3 for ReLU\")\n",
        "print(\"Press 4 for LeakyReLU\")\n",
        "afh = int(input(\"Choose activation function for hidden layer:\"))\n",
        "afo = 0\n",
        "\n",
        "layer_dims = [n]                                                                                                                                                             #Genrating NN structure\n",
        "for i in range(0, hid_layer):                                                                                                                                          \n",
        "    layer_dims.append(nodes)\n",
        "layer_dims.append(n)\n",
        "\n",
        "parameters = initialize_parameters_deep(layer_dims)                                                                                          #Initialising parameters (W and b)\n",
        "\n",
        "AL, caches = L_model_forward(X, parameters, afh, afo)                                                                                                                                                  \n",
        "\n",
        "Al = AL.T\n",
        "count = []\n",
        "cost = []                                                                                                                                                                            #Computing cost    \n",
        "i = 0\n",
        "iter = 1000\n",
        "\n",
        "#----------------------------------------------------------------------------------------------------------------------------------------Training\n",
        "while (iter):                                                                                                                                                                     \n",
        "    i = i + 1\n",
        "    count.append(i)\n",
        "    AL, caches = L_model_forward(X, parameters, afh, afo)                                                                                    #Forward propagation       \n",
        "    grads = L_model_backward(AL, Y, caches, afh, afo)                                                                                            #Backward propagation\n",
        "    parameters = update_parameters(parameters, grads, 0.001)                                                                          #Updating parfameter\n",
        "    cost.append(compute_cost(AL, Y))                                                                                                                          \n",
        "    iter = iter -1\n",
        "\n",
        "#----------------------------------------------------------------------------------------------------------------------------------------Plotting cost vs count\n",
        "x = count\n",
        "y = cost + 0*count\n",
        "plt.plot(x,y, label = 'Cost with iterations')\n",
        "plt.xlabel('iterations')\n",
        "plt.ylabel('cost')\n",
        "plt.title('Cost with iterations')\n",
        "plt.legend()\n",
        "plt.show()\n",
        "\n",
        "#----------------------------------------------------------------------------------------------------------------------------------------Plotting Cam profile\n",
        "Xl = np.squeeze(X.T)\n",
        "Yl = np.squeeze(Y.T)\n",
        "al = np.squeeze(AL.T)\n",
        "al = al+ Base_circle\n",
        "plt.plot(phi, Yl, label ='Displacement Curve', color ='r')\n",
        "plt.xlabel('angle')\n",
        "plt.ylabel('Displacement')\n",
        "plt.title('Curve')\n",
        "plt.legend()\n",
        "plt.show()\n",
        "plt.polar(phi, al, label ='Optimized curve', color = 'b')\n",
        "\n",
        "plt.legend()\n",
        "plt.show()\n",
        "\n",
        "Al = AL.T\n",
        "print(\"cost = \" + str(compute_cost(AL, Y)))"
      ],
      "execution_count": null,
      "outputs": [
        {
          "output_type": "stream",
          "text": [
            "Enter the base circle diiameter in mm: 20\n",
            "Enter number of hidden layers: 3\n",
            "Enter number of nodes in a hidden layer: 4\n",
            "Please Enter which activation function you want to use\n",
            "Press 1 for Sigmoid\n",
            "Press 2 for tanh\n",
            "Press 3 for ReLU\n",
            "Press 4 for LeakyReLU\n",
            "Choose activation function for hidden layer:1\n"
          ],
          "name": "stdout"
        },
        {
          "output_type": "stream",
          "text": [
            "/usr/local/lib/python3.6/dist-packages/ipykernel_launcher.py:2: RuntimeWarning: overflow encountered in exp\n",
            "  \n",
            "/usr/local/lib/python3.6/dist-packages/ipykernel_launcher.py:23: RuntimeWarning: overflow encountered in exp\n"
          ],
          "name": "stderr"
        },
        {
          "output_type": "display_data",
          "data": {
            "image/png": "[encoded data removed]",
            "text/plain": [
              "<Figure size 432x288 with 1 Axes>"
            ]
          },
          "metadata": {
            "tags": [],
            "needs_background": "light"
          }
        },
        {
          "output_type": "display_data",
          "data": {
            "image/png": "[encoded data removed]",
            "text/plain": [
              "<Figure size 432x288 with 1 Axes>"
            ]
          },
          "metadata": {
            "tags": [],
            "needs_background": "light"
          }
        },
        {
          "output_type": "display_data",
          "data": {
            "image/png": "[encoded data removed]",
            "text/plain": [
              "<Figure size 432x288 with 1 Axes>"
            ]
          },
          "metadata": {
            "tags": [],
            "needs_background": "light"
          }
        },
        {
          "output_type": "stream",
          "text": [
            "cost = 280.3976862951667\n"
          ],
          "name": "stdout"
        }
      ]
    },
    {
      "cell_type": "code",
      "metadata": {
        "id": "7DuTdd7ZvOrc"
      },
      "source": [
        "ascent_x = []\n",
        "ascent_y = []\n",
        "up_x = []\n",
        "up_y =[]\n",
        "descent_x = []\n",
        "descent_y = []\n",
        "down_x = []\n",
        "down_y = []\n",
        "\n",
        "curr = 0\n",
        "index = 0\n",
        "hit =0\n",
        "\n",
        "#----------------------------------------------------------------------------------------------------------------------------------------Classify the points in the ‘xy’ matrix in rise, stay up, fall and stay down categories.\n",
        "for a in xy:\n",
        "  #print(a[0])\n",
        "  if a[0] <= (h-1) and curr == 0:\n",
        "    ascent_x.append(a[1])                                                                                                                                              #Prepare a separate matrix for the x and y axis.\n",
        "    ascent_y.append(a[0])\n",
        "\n",
        "  \n",
        "  elif a[0]>h-1 and a[0] <= h+1:\n",
        "    up_x.append(a[1])\n",
        "    up_y.append(a[0])\n",
        "    curr = 1\n",
        "    hit = 1\n",
        "\n",
        "  elif a[0] < h-1 and a[0] >=1 and  curr == 1 and hit == 0:\n",
        "    descent_x.append(a[1])\n",
        "    descent_y.append(a[0])\n",
        "\n",
        "  elif a[0]<1:\n",
        "    down_x.append(a[1])\n",
        "    down_y.append(a[0])\n",
        "\n",
        "  if len(up_x)>10:\n",
        "    hit = 0\n",
        "\n",
        "\n",
        "asc =  len(ascent_x)                                                                                                                                                       #Range of x-axis till the follower rise\n",
        "up =  len(up_x)                                                                                                                                                               #Range of x-axis till the follower stay up\n",
        "desc =  len(descent_x)                                                                                                                                                  #Range of x-axis till the follower descends\n",
        "down = len(down_x)                                                                                                                                                     #Range of x-axis till the follower stay down\n"
      ],
      "execution_count": null,
      "outputs": []
    },
    {
      "cell_type": "code",
      "metadata": {
        "id": "JRfHBomRvOrd",
        "colab": {
          "base_uri": "https://localhost:8080/",
          "height": 296
        },
        "outputId": "dd05c171-f466-43db-ebd8-01b2a5cca750"
      },
      "source": [
        "plt.xlabel(\"Angle\")\n",
        "plt.ylabel(\"Disp\")\n",
        "plt.plot(ascent_x, ascent_y, color = 'b')\n",
        "plt.plot(up_x, up_y, color = 'r')\n",
        "plt.plot(descent_x, descent_y, color = 'y')\n",
        "plt.plot(down_x, down_y, color = 'r')"
      ],
      "execution_count": null,
      "outputs": [
        {
          "output_type": "execute_result",
          "data": {
            "text/plain": [
              "[<matplotlib.lines.Line2D at 0x7f0fd5b78320>]"
            ]
          },
          "metadata": {
            "tags": []
          },
          "execution_count": 18
        },
        {
          "output_type": "display_data",
          "data": {
            "image/png": "[encoded data removed]",
            "text/plain": [
              "<Figure size 432x288 with 1 Axes>"
            ]
          },
          "metadata": {
            "tags": [],
            "needs_background": "light"
          }
        }
      ]
    },
    {
      "cell_type": "code",
      "metadata": {
        "id": "60xpSKLbvOrd"
      },
      "source": [
        "def poly_reg(x_list, y_list, x_size):\n",
        "  deg = int(input(\"Enter degree: \"))\n",
        "\n",
        "#----------------------------------------------------------------------------------------------------------------------------------------Generating left hand side matrix\n",
        "  rows, cols = (deg+1,deg+1)\n",
        "  l = []\n",
        "  sum = 0\n",
        "  for i in range(cols):\n",
        "      col = []\n",
        "      for j in range(rows):\n",
        "          for k in range(x_size):\n",
        "              sum = sum + (x_list[k]**(i+j))\n",
        "          col.append(sum)\n",
        "          sum=0\n",
        "      l.append(col)\n",
        "\n",
        "#----------------------------------------------------------------------------------------------------------------------------------------Generating right hand side matrix\n",
        "  r = []\n",
        "  sum = 0\n",
        "  for i in range(deg+1):\n",
        "      for j in range(x_size):\n",
        "          sum = sum + (x_list[j]**i)*y_list[j]\n",
        "      r.append(sum)\n",
        "      sum=0\n",
        "        \n",
        "  l_inv = np.linalg.inv(l)                                                                                                                                                  # Inverting left hand side matrix\n",
        "  w = np.dot(l_inv, r)                                                                                                                                                      # Mulipplying inverse LHS matrix with RHS matrix\n",
        "\n",
        "  x_arr = np.array(x_list)\n",
        "  y=0                                                                                                                                                                                 # Regressed function\n",
        "  for i in range(deg+1):\n",
        "      y=y+(w[i]*(x_arr**(i)))\n",
        "\n",
        "  plt.plot(x_list, y_list, color = 'b')\n",
        "  plt.plot(x_arr,y, color = 'r')    \n",
        "  \n",
        "  return w, y\n"
      ],
      "execution_count": null,
      "outputs": []
    },
    {
      "cell_type": "code",
      "metadata": {
        "colab": {
          "base_uri": "https://localhost:8080/",
          "height": 334
        },
        "id": "eaiGEmb-9L2h",
        "outputId": "a0bdca52-48ba-4037-83bd-d02e54a448fd"
      },
      "source": [
        "w_asc=poly_reg(ascent_x,ascent_y, asc)\n",
        "#print(w_asc)\n",
        "\n",
        "w_up=poly_reg(up_x,up_y, up)\n",
        "#print(w_up)\n",
        "\n",
        "w_desc=poly_reg(descent_x,descent_y, desc)\n",
        "#print(w_desc)\n",
        "\n",
        "w_down=poly_reg(down_x,down_y, down)\n",
        "#print(w_down)"
      ],
      "execution_count": null,
      "outputs": [
        {
          "output_type": "stream",
          "text": [
            "Enter degree: 10\n",
            "Enter degree: 1\n",
            "Enter degree: 7\n",
            "Enter degree: 1\n"
          ],
          "name": "stdout"
        },
        {
          "output_type": "display_data",
          "data": {
            "image/png": "[encoded data removed]",
            "text/plain": [
              "<Figure size 432x288 with 1 Axes>"
            ]
          },
          "metadata": {
            "tags": [],
            "needs_background": "light"
          }
        }
      ]
    },
    {
      "cell_type": "code",
      "metadata": {
        "id": "FY7Jf67G-Lya"
      },
      "source": [
        ""
      ],
      "execution_count": null,
      "outputs": []
    }
  ]
}